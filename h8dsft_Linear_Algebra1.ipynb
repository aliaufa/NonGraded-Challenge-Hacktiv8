{
 "cells": [
  {
   "attachments": {},
   "cell_type": "markdown",
   "metadata": {},
   "source": [
    "# Non Graded Challenge 4\n",
    "\n",
    "\n",
    "_Non-Graded Assignment ini dibuat guna mengevaluasi pembelajaran pada Hacktiv8 Data Science Fulltime Program khususnya pada konsep Linear Algebra._\n",
    "\n",
    "---\n"
   ]
  },
  {
   "cell_type": "markdown",
   "metadata": {},
   "source": [
    "\n",
    "\n",
    "1. Buatlah Vector dibawah ini dengan Python:\n",
    "\n",
    "  $$\n",
    "  \\begin{bmatrix}\n",
    "  17 \\\\\n",
    "  22 \\\\\n",
    "  19\n",
    "  \\end{bmatrix}\n",
    "  $$\n"
   ]
  },
  {
   "cell_type": "code",
   "execution_count": 1,
   "metadata": {},
   "outputs": [],
   "source": [
    "# Import numpy\n",
    "import numpy as np"
   ]
  },
  {
   "cell_type": "code",
   "execution_count": 3,
   "metadata": {},
   "outputs": [
    {
     "data": {
      "text/plain": [
       "array([17, 22, 19])"
      ]
     },
     "execution_count": 3,
     "metadata": {},
     "output_type": "execute_result"
    }
   ],
   "source": [
    "# membuat list\n",
    "v_list = [17,22,19]\n",
    "# mengubah list menjadi array / vector\n",
    "vector = np.array(v_list)\n",
    "vector"
   ]
  },
  {
   "attachments": {},
   "cell_type": "markdown",
   "metadata": {},
   "source": [
    "\n",
    "2. Diberikan 3 buah vektor 3 dimensi:\n",
    "$$\n",
    "A=\n",
    "\\begin{bmatrix}\n",
    "17 \\\\\n",
    "22 \\\\\n",
    "19\n",
    "\\end{bmatrix}\n",
    ",B=\n",
    "\\begin{bmatrix}\n",
    "10 \\\\\n",
    "20 \\\\\n",
    "11\n",
    "\\end{bmatrix},\n",
    "C=\n",
    "\\begin{bmatrix}\n",
    "5 \\\\\n",
    "12 \\\\\n",
    "9\n",
    "\\end{bmatrix}\n",
    "$$\n"
   ]
  },
  {
   "cell_type": "code",
   "execution_count": 4,
   "metadata": {},
   "outputs": [],
   "source": [
    "list_a = [17,22,19]\n",
    "list_b = [10,20,11]\n",
    "list_c = [5,12,9]\n",
    "\n",
    "a= np.array(list_a)\n",
    "b= np.array(list_b)\n",
    "c= np.array(list_c)"
   ]
  },
  {
   "attachments": {},
   "cell_type": "markdown",
   "metadata": {},
   "source": [
    "\n",
    "Hitunglah:\n",
    "  - A+B\n",
    "  - B-C\n",
    "  - A dot C\n",
    "  - A x B\n",
    "  - norm A\n",
    "  - Sudut antara vektor A dan B\n"
   ]
  },
  {
   "cell_type": "code",
   "execution_count": 6,
   "metadata": {},
   "outputs": [
    {
     "name": "stdout",
     "output_type": "stream",
     "text": [
      "A + B =  [27 42 30]\n",
      "B - C =  [5 8 2]\n",
      "A dot C =  520\n",
      "A x B =  [170 440 209]\n",
      "norm A =  33.67491648096547\n"
     ]
    }
   ],
   "source": [
    "# A + B\n",
    "print(\"A + B = \", a+b)\n",
    "# B - C\n",
    "print(\"B - C = \", b-c)\n",
    "# A dot C\n",
    "print(\"A dot C = \", a@c)\n",
    "# A x B\n",
    "print(\"A x B = \", a*b)\n",
    "# Norm A\n",
    "print(\"norm A = \", np.linalg.norm(a))"
   ]
  },
  {
   "attachments": {},
   "cell_type": "markdown",
   "metadata": {},
   "source": [
    "Sudut antara vector A dan B:"
   ]
  },
  {
   "cell_type": "code",
   "execution_count": 8,
   "metadata": {},
   "outputs": [
    {
     "name": "stdout",
     "output_type": "stream",
     "text": [
      "Cos Theta    :  0.9759590023331435\n",
      "Radians      :  0.21971776576153962\n",
      "Angle/Degree :  12.588900662180242\n"
     ]
    }
   ],
   "source": [
    "# Sudut antara vector A dan B\n",
    "\n",
    "# Cari nilai cos theta\n",
    "cos_theta = (a@b) / (np.linalg.norm(a) * np.linalg.norm(b))\n",
    "\n",
    "# ubah cos_theta menjadi radian\n",
    "radians = np.arccos(cos_theta)\n",
    "\n",
    "# ubah radian menjadi derajat (degree)\n",
    "degree = np.degrees(radians)\n",
    "\n",
    "print('Cos Theta    : ', cos_theta)\n",
    "print('Radians      : ', radians)\n",
    "print('Angle/Degree : ', degree)\n"
   ]
  },
  {
   "attachments": {},
   "cell_type": "markdown",
   "metadata": {},
   "source": [
    "\n",
    "- Buatlah plot dari vector berikut ini kedalam bidang 2D:\n",
    "\n",
    "  $$\n",
    "  U =\n",
    "  \\begin{bmatrix}\n",
    "  2 \\\\ 5\n",
    "  \\end{bmatrix},\n",
    "  V =\n",
    "  \\begin{bmatrix}\n",
    "  3 \\\\ 1\n",
    "  \\end{bmatrix}\n",
    "  $$\n"
   ]
  },
  {
   "cell_type": "code",
   "execution_count": 9,
   "metadata": {},
   "outputs": [],
   "source": [
    "u = np.array([2,5])\n",
    "v = np.array([3,1])"
   ]
  },
  {
   "cell_type": "code",
   "execution_count": 11,
   "metadata": {},
   "outputs": [],
   "source": [
    "import matplotlib.pyplot as plt"
   ]
  },
  {
   "cell_type": "code",
   "execution_count": 17,
   "metadata": {},
   "outputs": [
    {
     "data": {
      "image/png": "[encoded data removed]",
      "text/plain": [
       "<Figure size 640x480 with 1 Axes>"
      ]
     },
     "metadata": {},
     "output_type": "display_data"
    }
   ],
   "source": [
    "plt.arrow(0,0, u[0], u[1], color= \"blue\", head_width= 0.3)\n",
    "plt.arrow(0,0, v[0], v[1], color= \"red\", head_width= 0.3)\n",
    "plt.grid()\n",
    "plt.show()\n"
   ]
  },
  {
   "cell_type": "markdown",
   "metadata": {},
   "source": [
    "\n",
    "## Assignment Submission\n",
    "\n",
    "- Simpan assignment pada sesi ini dengan nama `h8dsft_Linear_Algebra1`.\n",
    "- Push Assigment yang telah kalian buat ke akun Github kalian masing-masing.\n",
    "\n",
    "## Assignment Objectives\n",
    "\n",
    "Non-Graded Assignment ini dibuat guna mengevaluasi konsep Linear Algebra sebagai berikut:\n",
    "\n",
    "- Memahami konsep Scalar dan Vectors\n",
    "- Mampu membuat Scalar dan Vectordengan Python\n",
    "- Mampu menerapkan operasi aritmatika terhadap Scalar dan Vector"
   ]
  }
 ],
 "metadata": {
  "kernelspec": {
   "display_name": "base",
   "language": "python",
   "name": "python3"
  },
  "language_info": {
   "codemirror_mode": {
    "name": "ipython",
    "version": 3
   },
   "file_extension": ".py",
   "mimetype": "text/x-python",
   "name": "python",
   "nbconvert_exporter": "python",
   "pygments_lexer": "ipython3",
   "version": "3.10.9"
  },
  "orig_nbformat": 4
 },
 "nbformat": 4,
 "nbformat_minor": 2
}
