{
 "cells": [
  {
   "attachments": {},
   "cell_type": "markdown",
   "metadata": {},
   "source": [
    "# Non Graded Challenge 6\n",
    "\n",
    "\n",
    "_Non-Graded Assignment ini dibuat guna mengevaluasi pembelajaran pada Hacktiv8 Data Science Fulltime Program khususnya pada konsep Linear Algebra._\n",
    "\n",
    "---\n",
    "\n",
    "## Assignment Instructions\n",
    "\n",
    "Apakah $\\begin{bmatrix}1 \\\\3\\end{bmatrix}$ adalah eigenvector dari $\\begin{bmatrix}1 & -1\\\\6 &-4 \\end{bmatrix}$? Jika iya, berapakah eigenvalue-nya?\n"
   ]
  },
  {
   "cell_type": "code",
   "execution_count": 1,
   "metadata": {},
   "outputs": [],
   "source": [
    "import numpy as np"
   ]
  },
  {
   "cell_type": "code",
   "execution_count": 9,
   "metadata": {},
   "outputs": [],
   "source": [
    "# Buat matrix\n",
    "A = np.array([[1,-1],[6,-4]])\n",
    "# Buat vector\n",
    "x = np.array([1,3])"
   ]
  },
  {
   "attachments": {},
   "cell_type": "markdown",
   "metadata": {},
   "source": [
    "untuk mencari eigen vector dan value dari matrix\n",
    "\n",
    "> A⋅x = λx\n",
    "\n",
    "Dimana : \n",
    "* A : A vector.\n",
    "* x : Eigen-vector.\n",
    "* λ : Eigen-value\n",
    "\n",
    "Jika hasil `A⋅x` merupakanhasil perkalian skalar dengan x maka x merupakan eigenvector dari A."
   ]
  },
  {
   "cell_type": "code",
   "execution_count": 10,
   "metadata": {},
   "outputs": [
    {
     "data": {
      "text/plain": [
       "array([-2, -6])"
      ]
     },
     "execution_count": 10,
     "metadata": {},
     "output_type": "execute_result"
    }
   ],
   "source": [
    "# Hasil A.x\n",
    "A@x"
   ]
  },
  {
   "attachments": {},
   "cell_type": "markdown",
   "metadata": {},
   "source": [
    "Hasil `A⋅x` adalah $\\begin{bmatrix}-2 \\\\-6\\end{bmatrix}$ yang merupakan perkalian skalar -2 dengan $\\begin{bmatrix}1 \\\\3\\end{bmatrix}$. Jadi dapat disimpulkan vector `x` adalah eigenvector dari matrix `A` dengan eigenvalue `-2`"
   ]
  }
 ],
 "metadata": {
  "kernelspec": {
   "display_name": "base",
   "language": "python",
   "name": "python3"
  },
  "language_info": {
   "codemirror_mode": {
    "name": "ipython",
    "version": 3
   },
   "file_extension": ".py",
   "mimetype": "text/x-python",
   "name": "python",
   "nbconvert_exporter": "python",
   "pygments_lexer": "ipython3",
   "version": "3.10.9"
  },
  "orig_nbformat": 4
 },
 "nbformat": 4,
 "nbformat_minor": 2
}
