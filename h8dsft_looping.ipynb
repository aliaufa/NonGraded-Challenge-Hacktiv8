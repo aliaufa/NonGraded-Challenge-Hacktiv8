{
 "cells": [
  {
   "attachments": {},
   "cell_type": "markdown",
   "metadata": {},
   "source": [
    "# ASSIGNMENT INSTRUCTION\n",
    "\n",
    "- Buatlah sebuah list dengan value berupa:\n",
    "\n",
    "`\n",
    "  numbers = [\n",
    "  951, 402, 984, 651, 360, 69, 408, 319, 601, 485, 980, 507, 725, 547, 544, 615, \n",
    "  83, 165, 141, 501, 263, 617, 865, 575, 219, 390, 984, 592, 236, 105, 42, 941, \n",
    "  386, 462, 47, 418, 907, 344, 236, 375, 823, 566, 597, 978, 328, 615, 953, 345, \n",
    "  399, 162, 758, 219, 918, 237, 412, 566, 826, 248, 866, 950, 626, 949 ]\n",
    "`\n",
    "\n",
    "- Loop dan print semua angka genap dari list angka diatas dengan urutan yang sama.\n",
    "\n",
    "- Jangan mencetak angka apapun yang muncul setelah angka 918 berdasarkan posisi angka tersebut pada list diatas.\n",
    "\n",
    "- Tampilkan pesan Done setelah looping berakhir."
   ]
  },
  {
   "cell_type": "code",
   "execution_count": 25,
   "metadata": {},
   "outputs": [
    {
     "name": "stdout",
     "output_type": "stream",
     "text": [
      "402 984 360 408 980 544 390 984 592 236 942 386 462 418 344 236 566 978 328 162 758 918 Done\n"
     ]
    }
   ],
   "source": [
    "numbers = [ 951, 402, 984, 651, 360, 69, 408, 319, 601, 485, 980, 507, 725, 547, \n",
    "            544, 615, 83, 165, 141, 501, 263, 617, 865, 575, 219, 390, 984, 592, \n",
    "            236, 105, 942, 941, 386, 462, 47, 418, 907, 344, 236, 375, 823, 566, \n",
    "            597, 978, 328, 615, 953, 345, 399, 162, 758, 219, 918, 237, 412, 566, \n",
    "            826, 248, 866, 950, 626, 949 ]\n",
    "\n",
    "for n in numbers:\n",
    "    if n % 2 == 0 :\n",
    "        print(n, end=\" \")\n",
    "    if n == 918 :\n",
    "        break\n",
    "print(\"Done\")\n",
    "    "
   ]
  }
 ],
 "metadata": {
  "kernelspec": {
   "display_name": "base",
   "language": "python",
   "name": "python3"
  },
  "language_info": {
   "codemirror_mode": {
    "name": "ipython",
    "version": 3
   },
   "file_extension": ".py",
   "mimetype": "text/x-python",
   "name": "python",
   "nbconvert_exporter": "python",
   "pygments_lexer": "ipython3",
   "version": "3.9.16"
  },
  "orig_nbformat": 4
 },
 "nbformat": 4,
 "nbformat_minor": 2
}
