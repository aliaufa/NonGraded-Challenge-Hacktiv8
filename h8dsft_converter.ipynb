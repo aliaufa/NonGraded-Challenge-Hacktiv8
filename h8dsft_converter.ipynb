{
 "cells": [
  {
   "attachments": {},
   "cell_type": "markdown",
   "metadata": {},
   "source": [
    "# Assignment  Instructions\n",
    "\n",
    "- Buatlah sebuah function yang dapat mengkonversi suhu dari kelvin ke celcius, dan celcius ke kelvin.\n",
    "- Buatlah sebuah function yang dapat mengkonversi suhu ke fahrenheit. Tambahkan parameter untuk memastikan bahwa argumen yang dimasukan adalah celcius atau kelvin. Panggil function yang pertama jika diperlukan.\n",
    "- Buatlah sebuah function yang dapat mengkonversi suhu dari fahrenheit. Berikan argumen untuk memastikan bahwa outputnya dalah celcius atau kelvin.\n",
    "- Berikan dokumentasi pada setiap baris kode yang kalian tulis."
   ]
  },
  {
   "attachments": {},
   "cell_type": "markdown",
   "metadata": {},
   "source": [
    "## Konversi suhu dari kelvin ke celcius, dan celcius ke kelvin"
   ]
  },
  {
   "cell_type": "code",
   "execution_count": 9,
   "metadata": {},
   "outputs": [
    {
     "name": "stdout",
     "output_type": "stream",
     "text": [
      "suhu =  293.15 Kelvin\n"
     ]
    }
   ],
   "source": [
    "satuan = input(\"masukan satuan suhu (C/K): \")\n",
    "suhu = float(input(\"masukan nilai temperatur: \"))\n",
    "\n",
    "def konversi_suhu(satuan, suhu):\n",
    "    '''This function is used to convert Celcius to Kelvin or Kelvin to Celcius.\n",
    "    \n",
    "    :param `satuan` : Satuan suhu Celcius / Kelvin | string.\n",
    "    :param `suhu` : Nilai angka temperatur Celcius / Kelvin | float.\n",
    "    :return: `suhu_konversi` : Nilai hasil konversi | float\n",
    "    '''\n",
    "    # Konversi celcius ke kelvin\n",
    "    if satuan.upper() == \"C\":\n",
    "        suhu_konversi = suhu + 273.15\n",
    "        print(\"suhu = \", suhu_konversi, \"Kelvin\")\n",
    "    # Konversi kelvin ke celcius\n",
    "    elif satuan.upper() == \"K\" :\n",
    "        suhu_konversi = suhu - 273.15\n",
    "        print(\"suhu = \", suhu_konversi, \"Celcius\")\n",
    "\n",
    "konversi_suhu(satuan, suhu)   "
   ]
  },
  {
   "attachments": {},
   "cell_type": "markdown",
   "metadata": {},
   "source": [
    "## Konversi suhu ke Fahrenheit"
   ]
  },
  {
   "cell_type": "code",
   "execution_count": 13,
   "metadata": {},
   "outputs": [
    {
     "name": "stdout",
     "output_type": "stream",
     "text": [
      "suhu =  32.0 Fahrenheit\n"
     ]
    }
   ],
   "source": [
    "satuan = input(\"masukan satuan suhu (C/K): \")\n",
    "suhu = float(input(\"masukan nilai temperatur: \"))\n",
    "\n",
    "def konversi_suhu(satuan, suhu):\n",
    "    '''This function is used to convert Celcius or Kelvin to Fahrenheit.\n",
    "    \n",
    "    :param `satuan` : Satuan suhu Celcius / Kelvin | string.\n",
    "    :param `suhu` : Nilai angka temperatur Celcius / Kelvin | float.\n",
    "    :return: `suhu_konversi` : Nilai hasil konversi ke Fahrenheit | float\n",
    "    '''\n",
    "    # Konversi celcius ke kelvin\n",
    "    if satuan.upper() == \"C\":\n",
    "        suhu_konversi = (9/5) * suhu + 32\n",
    "        print(\"suhu = \", suhu_konversi, \"Fahrenheit\")\n",
    "    # Konversi kelvin ke celcius\n",
    "    elif satuan.upper() == \"K\" :\n",
    "        suhu_konversi = (9/5) * (suhu - 273) + 32\n",
    "        print(\"suhu = \", suhu_konversi, \"Fahrenheit\")\n",
    "\n",
    "konversi_suhu(satuan, suhu) "
   ]
  },
  {
   "attachments": {},
   "cell_type": "markdown",
   "metadata": {},
   "source": [
    "## Konversi suhu dari Fahrenheit"
   ]
  },
  {
   "cell_type": "code",
   "execution_count": 14,
   "metadata": {},
   "outputs": [
    {
     "name": "stdout",
     "output_type": "stream",
     "text": [
      "suhu =  273.15 Kelvin\n"
     ]
    }
   ],
   "source": [
    "\n",
    "suhu = float(input(\"masukan nilai temperatur dalam Fahrenheit: \"))\n",
    "satuan = input(\"masukan satuan suhu yang diinginkan (C/K): \")\n",
    "\n",
    "def konversi_suhu(satuan, suhu):\n",
    "    '''This function is used to convert Fahrenheit to Celcius or Kelvin.\n",
    "    \n",
    "    :param `satuan` : Satuan suhu Celcius / Kelvin | string.\n",
    "    :param `suhu` : Nilai angka temperatur Fahrenheit | float.\n",
    "    :return: `suhu_konversi` : Nilai hasil konversi dari Fahrenheit | float\n",
    "    '''\n",
    "    # Konversi celcius ke kelvin\n",
    "    if satuan.upper() == \"C\":\n",
    "        suhu_konversi = (suhu - 32)/1.80\n",
    "        print(\"suhu = \", suhu_konversi, \"Celcius\")\n",
    "    # Konversi kelvin ke celcius\n",
    "    elif satuan.upper() == \"K\" :\n",
    "        suhu_konversi = (5/9) * (suhu - 32) + 273.15\n",
    "        print(\"suhu = \", suhu_konversi, \"Kelvin\")\n",
    "\n",
    "konversi_suhu(satuan, suhu) "
   ]
  }
 ],
 "metadata": {
  "kernelspec": {
   "display_name": "base",
   "language": "python",
   "name": "python3"
  },
  "language_info": {
   "codemirror_mode": {
    "name": "ipython",
    "version": 3
   },
   "file_extension": ".py",
   "mimetype": "text/x-python",
   "name": "python",
   "nbconvert_exporter": "python",
   "pygments_lexer": "ipython3",
   "version": "3.9.16"
  },
  "orig_nbformat": 4
 },
 "nbformat": 4,
 "nbformat_minor": 2
}
